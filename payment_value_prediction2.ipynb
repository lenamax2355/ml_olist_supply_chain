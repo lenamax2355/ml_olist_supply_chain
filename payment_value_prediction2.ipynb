{
  "nbformat": 4,
  "nbformat_minor": 0,
  "metadata": {
    "kernelspec": {
      "display_name": "Python 3",
      "language": "python",
      "name": "python3"
    },
    "language_info": {
      "codemirror_mode": {
        "name": "ipython",
        "version": 3
      },
      "file_extension": ".py",
      "mimetype": "text/x-python",
      "name": "python",
      "nbconvert_exporter": "python",
      "pygments_lexer": "ipython3",
      "version": "3.7.6"
    },
    "colab": {
      "name": "sales_prediction.ipynb",
      "provenance": []
    }
  },
  "cells": [
    {
      "cell_type": "code",
      "metadata": {
        "colab": {
          "base_uri": "https://localhost:8080/",
          "height": 444
        },
        "id": "NnQ4Ce4W0Ylu",
        "outputId": "7e14b53f-36ab-46d9-9350-31678b401f4b"
      },
      "source": [
        "import pandas as pd\n",
        "import numpy as np\n",
        "from sklearn.model_selection import train_test_split, GridSearchCV,RandomizedSearchCV\n",
        "from sklearn.linear_model import LinearRegression\n",
        "import pickle\n",
        "import seaborn as sns\n",
        "import matplotlib.pyplot as plt\n",
        "import statsmodels.formula.api as smf\n",
        "from sklearn.preprocessing import StandardScaler \n",
        "df1 = pd.read_csv('/content/new_olist_order_items_dataset.csv')\n",
        "df2 = pd.read_csv('/content/new_olist_order_payments_dataset.csv')\n",
        "df1"
      ],
      "execution_count": 14,
      "outputs": [
        {
          "output_type": "execute_result",
          "data": {
            "text/html": [
              "<div>\n",
              "<style scoped>\n",
              "    .dataframe tbody tr th:only-of-type {\n",
              "        vertical-align: middle;\n",
              "    }\n",
              "\n",
              "    .dataframe tbody tr th {\n",
              "        vertical-align: top;\n",
              "    }\n",
              "\n",
              "    .dataframe thead th {\n",
              "        text-align: right;\n",
              "    }\n",
              "</style>\n",
              "<table border=\"1\" class=\"dataframe\">\n",
              "  <thead>\n",
              "    <tr style=\"text-align: right;\">\n",
              "      <th></th>\n",
              "      <th>order_id</th>\n",
              "      <th>order_item_id</th>\n",
              "      <th>product_id</th>\n",
              "      <th>seller_id</th>\n",
              "      <th>price</th>\n",
              "      <th>freight_value</th>\n",
              "      <th>shipping_limit_date_yr</th>\n",
              "      <th>shipping_limit_date_mo</th>\n",
              "      <th>shipping_limit_date_dy</th>\n",
              "      <th>shipping_limit_date_hr</th>\n",
              "      <th>shipping_limit_date_mi</th>\n",
              "      <th>shipping_limit_date_sec</th>\n",
              "    </tr>\n",
              "  </thead>\n",
              "  <tbody>\n",
              "    <tr>\n",
              "      <th>0</th>\n",
              "      <td>00010242fe8c5a6d1ba2dd792cb16214</td>\n",
              "      <td>1</td>\n",
              "      <td>4244733e06e7ecb4970a6e2683c13e61</td>\n",
              "      <td>48436dade18ac8b2bce089ec2a041202</td>\n",
              "      <td>58.90</td>\n",
              "      <td>13.29</td>\n",
              "      <td>2017</td>\n",
              "      <td>9</td>\n",
              "      <td>19</td>\n",
              "      <td>9</td>\n",
              "      <td>45</td>\n",
              "      <td>35</td>\n",
              "    </tr>\n",
              "    <tr>\n",
              "      <th>1</th>\n",
              "      <td>00018f77f2f0320c557190d7a144bdd3</td>\n",
              "      <td>1</td>\n",
              "      <td>e5f2d52b802189ee658865ca93d83a8f</td>\n",
              "      <td>dd7ddc04e1b6c2c614352b383efe2d36</td>\n",
              "      <td>239.90</td>\n",
              "      <td>19.93</td>\n",
              "      <td>2017</td>\n",
              "      <td>5</td>\n",
              "      <td>3</td>\n",
              "      <td>11</td>\n",
              "      <td>5</td>\n",
              "      <td>13</td>\n",
              "    </tr>\n",
              "    <tr>\n",
              "      <th>2</th>\n",
              "      <td>000229ec398224ef6ca0657da4fc703e</td>\n",
              "      <td>1</td>\n",
              "      <td>c777355d18b72b67abbeef9df44fd0fd</td>\n",
              "      <td>5b51032eddd242adc84c38acab88f23d</td>\n",
              "      <td>199.00</td>\n",
              "      <td>17.87</td>\n",
              "      <td>2018</td>\n",
              "      <td>1</td>\n",
              "      <td>18</td>\n",
              "      <td>14</td>\n",
              "      <td>48</td>\n",
              "      <td>30</td>\n",
              "    </tr>\n",
              "    <tr>\n",
              "      <th>3</th>\n",
              "      <td>00024acbcdf0a6daa1e931b038114c75</td>\n",
              "      <td>1</td>\n",
              "      <td>7634da152a4610f1595efa32f14722fc</td>\n",
              "      <td>9d7a1d34a5052409006425275ba1c2b4</td>\n",
              "      <td>12.99</td>\n",
              "      <td>12.79</td>\n",
              "      <td>2018</td>\n",
              "      <td>8</td>\n",
              "      <td>15</td>\n",
              "      <td>10</td>\n",
              "      <td>10</td>\n",
              "      <td>18</td>\n",
              "    </tr>\n",
              "    <tr>\n",
              "      <th>4</th>\n",
              "      <td>00042b26cf59d7ce69dfabb4e55b4fd9</td>\n",
              "      <td>1</td>\n",
              "      <td>ac6c3623068f30de03045865e4e10089</td>\n",
              "      <td>df560393f3a51e74553ab94004ba5c87</td>\n",
              "      <td>199.90</td>\n",
              "      <td>18.14</td>\n",
              "      <td>2017</td>\n",
              "      <td>2</td>\n",
              "      <td>13</td>\n",
              "      <td>13</td>\n",
              "      <td>57</td>\n",
              "      <td>51</td>\n",
              "    </tr>\n",
              "    <tr>\n",
              "      <th>...</th>\n",
              "      <td>...</td>\n",
              "      <td>...</td>\n",
              "      <td>...</td>\n",
              "      <td>...</td>\n",
              "      <td>...</td>\n",
              "      <td>...</td>\n",
              "      <td>...</td>\n",
              "      <td>...</td>\n",
              "      <td>...</td>\n",
              "      <td>...</td>\n",
              "      <td>...</td>\n",
              "      <td>...</td>\n",
              "    </tr>\n",
              "    <tr>\n",
              "      <th>112645</th>\n",
              "      <td>fffc94f6ce00a00581880bf54a75a037</td>\n",
              "      <td>1</td>\n",
              "      <td>4aa6014eceb682077f9dc4bffebc05b0</td>\n",
              "      <td>b8bc237ba3788b23da09c0f1f3a3288c</td>\n",
              "      <td>299.99</td>\n",
              "      <td>43.41</td>\n",
              "      <td>2018</td>\n",
              "      <td>5</td>\n",
              "      <td>2</td>\n",
              "      <td>4</td>\n",
              "      <td>11</td>\n",
              "      <td>1</td>\n",
              "    </tr>\n",
              "    <tr>\n",
              "      <th>112646</th>\n",
              "      <td>fffcd46ef2263f404302a634eb57f7eb</td>\n",
              "      <td>1</td>\n",
              "      <td>32e07fd915822b0765e448c4dd74c828</td>\n",
              "      <td>f3c38ab652836d21de61fb8314b69182</td>\n",
              "      <td>350.00</td>\n",
              "      <td>36.53</td>\n",
              "      <td>2018</td>\n",
              "      <td>7</td>\n",
              "      <td>20</td>\n",
              "      <td>4</td>\n",
              "      <td>31</td>\n",
              "      <td>48</td>\n",
              "    </tr>\n",
              "    <tr>\n",
              "      <th>112647</th>\n",
              "      <td>fffce4705a9662cd70adb13d4a31832d</td>\n",
              "      <td>1</td>\n",
              "      <td>72a30483855e2eafc67aee5dc2560482</td>\n",
              "      <td>c3cfdc648177fdbbbb35635a37472c53</td>\n",
              "      <td>99.90</td>\n",
              "      <td>16.95</td>\n",
              "      <td>2017</td>\n",
              "      <td>10</td>\n",
              "      <td>30</td>\n",
              "      <td>17</td>\n",
              "      <td>14</td>\n",
              "      <td>25</td>\n",
              "    </tr>\n",
              "    <tr>\n",
              "      <th>112648</th>\n",
              "      <td>fffe18544ffabc95dfada21779c9644f</td>\n",
              "      <td>1</td>\n",
              "      <td>9c422a519119dcad7575db5af1ba540e</td>\n",
              "      <td>2b3e4a2a3ea8e01938cabda2a3e5cc79</td>\n",
              "      <td>55.99</td>\n",
              "      <td>8.72</td>\n",
              "      <td>2017</td>\n",
              "      <td>8</td>\n",
              "      <td>21</td>\n",
              "      <td>0</td>\n",
              "      <td>4</td>\n",
              "      <td>32</td>\n",
              "    </tr>\n",
              "    <tr>\n",
              "      <th>112649</th>\n",
              "      <td>fffe41c64501cc87c801fd61db3f6244</td>\n",
              "      <td>1</td>\n",
              "      <td>350688d9dc1e75ff97be326363655e01</td>\n",
              "      <td>f7ccf836d21b2fb1de37564105216cc1</td>\n",
              "      <td>43.00</td>\n",
              "      <td>12.79</td>\n",
              "      <td>2018</td>\n",
              "      <td>6</td>\n",
              "      <td>12</td>\n",
              "      <td>17</td>\n",
              "      <td>10</td>\n",
              "      <td>13</td>\n",
              "    </tr>\n",
              "  </tbody>\n",
              "</table>\n",
              "<p>112650 rows × 12 columns</p>\n",
              "</div>"
            ],
            "text/plain": [
              "                                order_id  ...  shipping_limit_date_sec\n",
              "0       00010242fe8c5a6d1ba2dd792cb16214  ...                       35\n",
              "1       00018f77f2f0320c557190d7a144bdd3  ...                       13\n",
              "2       000229ec398224ef6ca0657da4fc703e  ...                       30\n",
              "3       00024acbcdf0a6daa1e931b038114c75  ...                       18\n",
              "4       00042b26cf59d7ce69dfabb4e55b4fd9  ...                       51\n",
              "...                                  ...  ...                      ...\n",
              "112645  fffc94f6ce00a00581880bf54a75a037  ...                        1\n",
              "112646  fffcd46ef2263f404302a634eb57f7eb  ...                       48\n",
              "112647  fffce4705a9662cd70adb13d4a31832d  ...                       25\n",
              "112648  fffe18544ffabc95dfada21779c9644f  ...                       32\n",
              "112649  fffe41c64501cc87c801fd61db3f6244  ...                       13\n",
              "\n",
              "[112650 rows x 12 columns]"
            ]
          },
          "metadata": {
            "tags": []
          },
          "execution_count": 14
        }
      ]
    },
    {
      "cell_type": "code",
      "metadata": {
        "scrolled": true,
        "colab": {
          "base_uri": "https://localhost:8080/",
          "height": 444
        },
        "id": "7gjh3TKs0Yl0",
        "outputId": "f8a01e56-a16f-4069-bf8e-7b79fa59f48c"
      },
      "source": [
        "df3 = df1.merge(df2,on='order_id')\n",
        "df3"
      ],
      "execution_count": 15,
      "outputs": [
        {
          "output_type": "execute_result",
          "data": {
            "text/html": [
              "<div>\n",
              "<style scoped>\n",
              "    .dataframe tbody tr th:only-of-type {\n",
              "        vertical-align: middle;\n",
              "    }\n",
              "\n",
              "    .dataframe tbody tr th {\n",
              "        vertical-align: top;\n",
              "    }\n",
              "\n",
              "    .dataframe thead th {\n",
              "        text-align: right;\n",
              "    }\n",
              "</style>\n",
              "<table border=\"1\" class=\"dataframe\">\n",
              "  <thead>\n",
              "    <tr style=\"text-align: right;\">\n",
              "      <th></th>\n",
              "      <th>order_id</th>\n",
              "      <th>order_item_id</th>\n",
              "      <th>product_id</th>\n",
              "      <th>seller_id</th>\n",
              "      <th>price</th>\n",
              "      <th>freight_value</th>\n",
              "      <th>shipping_limit_date_yr</th>\n",
              "      <th>shipping_limit_date_mo</th>\n",
              "      <th>shipping_limit_date_dy</th>\n",
              "      <th>shipping_limit_date_hr</th>\n",
              "      <th>shipping_limit_date_mi</th>\n",
              "      <th>shipping_limit_date_sec</th>\n",
              "      <th>payment_sequential</th>\n",
              "      <th>payment_type</th>\n",
              "      <th>payment_installments</th>\n",
              "      <th>payment_value</th>\n",
              "    </tr>\n",
              "  </thead>\n",
              "  <tbody>\n",
              "    <tr>\n",
              "      <th>0</th>\n",
              "      <td>00010242fe8c5a6d1ba2dd792cb16214</td>\n",
              "      <td>1</td>\n",
              "      <td>4244733e06e7ecb4970a6e2683c13e61</td>\n",
              "      <td>48436dade18ac8b2bce089ec2a041202</td>\n",
              "      <td>58.90</td>\n",
              "      <td>13.29</td>\n",
              "      <td>2017</td>\n",
              "      <td>9</td>\n",
              "      <td>19</td>\n",
              "      <td>9</td>\n",
              "      <td>45</td>\n",
              "      <td>35</td>\n",
              "      <td>1</td>\n",
              "      <td>credit_card</td>\n",
              "      <td>2</td>\n",
              "      <td>72.19</td>\n",
              "    </tr>\n",
              "    <tr>\n",
              "      <th>1</th>\n",
              "      <td>00018f77f2f0320c557190d7a144bdd3</td>\n",
              "      <td>1</td>\n",
              "      <td>e5f2d52b802189ee658865ca93d83a8f</td>\n",
              "      <td>dd7ddc04e1b6c2c614352b383efe2d36</td>\n",
              "      <td>239.90</td>\n",
              "      <td>19.93</td>\n",
              "      <td>2017</td>\n",
              "      <td>5</td>\n",
              "      <td>3</td>\n",
              "      <td>11</td>\n",
              "      <td>5</td>\n",
              "      <td>13</td>\n",
              "      <td>1</td>\n",
              "      <td>credit_card</td>\n",
              "      <td>3</td>\n",
              "      <td>259.83</td>\n",
              "    </tr>\n",
              "    <tr>\n",
              "      <th>2</th>\n",
              "      <td>000229ec398224ef6ca0657da4fc703e</td>\n",
              "      <td>1</td>\n",
              "      <td>c777355d18b72b67abbeef9df44fd0fd</td>\n",
              "      <td>5b51032eddd242adc84c38acab88f23d</td>\n",
              "      <td>199.00</td>\n",
              "      <td>17.87</td>\n",
              "      <td>2018</td>\n",
              "      <td>1</td>\n",
              "      <td>18</td>\n",
              "      <td>14</td>\n",
              "      <td>48</td>\n",
              "      <td>30</td>\n",
              "      <td>1</td>\n",
              "      <td>credit_card</td>\n",
              "      <td>5</td>\n",
              "      <td>216.87</td>\n",
              "    </tr>\n",
              "    <tr>\n",
              "      <th>3</th>\n",
              "      <td>00024acbcdf0a6daa1e931b038114c75</td>\n",
              "      <td>1</td>\n",
              "      <td>7634da152a4610f1595efa32f14722fc</td>\n",
              "      <td>9d7a1d34a5052409006425275ba1c2b4</td>\n",
              "      <td>12.99</td>\n",
              "      <td>12.79</td>\n",
              "      <td>2018</td>\n",
              "      <td>8</td>\n",
              "      <td>15</td>\n",
              "      <td>10</td>\n",
              "      <td>10</td>\n",
              "      <td>18</td>\n",
              "      <td>1</td>\n",
              "      <td>credit_card</td>\n",
              "      <td>2</td>\n",
              "      <td>25.78</td>\n",
              "    </tr>\n",
              "    <tr>\n",
              "      <th>4</th>\n",
              "      <td>00042b26cf59d7ce69dfabb4e55b4fd9</td>\n",
              "      <td>1</td>\n",
              "      <td>ac6c3623068f30de03045865e4e10089</td>\n",
              "      <td>df560393f3a51e74553ab94004ba5c87</td>\n",
              "      <td>199.90</td>\n",
              "      <td>18.14</td>\n",
              "      <td>2017</td>\n",
              "      <td>2</td>\n",
              "      <td>13</td>\n",
              "      <td>13</td>\n",
              "      <td>57</td>\n",
              "      <td>51</td>\n",
              "      <td>1</td>\n",
              "      <td>credit_card</td>\n",
              "      <td>3</td>\n",
              "      <td>218.04</td>\n",
              "    </tr>\n",
              "    <tr>\n",
              "      <th>...</th>\n",
              "      <td>...</td>\n",
              "      <td>...</td>\n",
              "      <td>...</td>\n",
              "      <td>...</td>\n",
              "      <td>...</td>\n",
              "      <td>...</td>\n",
              "      <td>...</td>\n",
              "      <td>...</td>\n",
              "      <td>...</td>\n",
              "      <td>...</td>\n",
              "      <td>...</td>\n",
              "      <td>...</td>\n",
              "      <td>...</td>\n",
              "      <td>...</td>\n",
              "      <td>...</td>\n",
              "      <td>...</td>\n",
              "    </tr>\n",
              "    <tr>\n",
              "      <th>117596</th>\n",
              "      <td>fffc94f6ce00a00581880bf54a75a037</td>\n",
              "      <td>1</td>\n",
              "      <td>4aa6014eceb682077f9dc4bffebc05b0</td>\n",
              "      <td>b8bc237ba3788b23da09c0f1f3a3288c</td>\n",
              "      <td>299.99</td>\n",
              "      <td>43.41</td>\n",
              "      <td>2018</td>\n",
              "      <td>5</td>\n",
              "      <td>2</td>\n",
              "      <td>4</td>\n",
              "      <td>11</td>\n",
              "      <td>1</td>\n",
              "      <td>1</td>\n",
              "      <td>boleto</td>\n",
              "      <td>1</td>\n",
              "      <td>343.40</td>\n",
              "    </tr>\n",
              "    <tr>\n",
              "      <th>117597</th>\n",
              "      <td>fffcd46ef2263f404302a634eb57f7eb</td>\n",
              "      <td>1</td>\n",
              "      <td>32e07fd915822b0765e448c4dd74c828</td>\n",
              "      <td>f3c38ab652836d21de61fb8314b69182</td>\n",
              "      <td>350.00</td>\n",
              "      <td>36.53</td>\n",
              "      <td>2018</td>\n",
              "      <td>7</td>\n",
              "      <td>20</td>\n",
              "      <td>4</td>\n",
              "      <td>31</td>\n",
              "      <td>48</td>\n",
              "      <td>1</td>\n",
              "      <td>boleto</td>\n",
              "      <td>1</td>\n",
              "      <td>386.53</td>\n",
              "    </tr>\n",
              "    <tr>\n",
              "      <th>117598</th>\n",
              "      <td>fffce4705a9662cd70adb13d4a31832d</td>\n",
              "      <td>1</td>\n",
              "      <td>72a30483855e2eafc67aee5dc2560482</td>\n",
              "      <td>c3cfdc648177fdbbbb35635a37472c53</td>\n",
              "      <td>99.90</td>\n",
              "      <td>16.95</td>\n",
              "      <td>2017</td>\n",
              "      <td>10</td>\n",
              "      <td>30</td>\n",
              "      <td>17</td>\n",
              "      <td>14</td>\n",
              "      <td>25</td>\n",
              "      <td>1</td>\n",
              "      <td>credit_card</td>\n",
              "      <td>3</td>\n",
              "      <td>116.85</td>\n",
              "    </tr>\n",
              "    <tr>\n",
              "      <th>117599</th>\n",
              "      <td>fffe18544ffabc95dfada21779c9644f</td>\n",
              "      <td>1</td>\n",
              "      <td>9c422a519119dcad7575db5af1ba540e</td>\n",
              "      <td>2b3e4a2a3ea8e01938cabda2a3e5cc79</td>\n",
              "      <td>55.99</td>\n",
              "      <td>8.72</td>\n",
              "      <td>2017</td>\n",
              "      <td>8</td>\n",
              "      <td>21</td>\n",
              "      <td>0</td>\n",
              "      <td>4</td>\n",
              "      <td>32</td>\n",
              "      <td>1</td>\n",
              "      <td>credit_card</td>\n",
              "      <td>3</td>\n",
              "      <td>64.71</td>\n",
              "    </tr>\n",
              "    <tr>\n",
              "      <th>117600</th>\n",
              "      <td>fffe41c64501cc87c801fd61db3f6244</td>\n",
              "      <td>1</td>\n",
              "      <td>350688d9dc1e75ff97be326363655e01</td>\n",
              "      <td>f7ccf836d21b2fb1de37564105216cc1</td>\n",
              "      <td>43.00</td>\n",
              "      <td>12.79</td>\n",
              "      <td>2018</td>\n",
              "      <td>6</td>\n",
              "      <td>12</td>\n",
              "      <td>17</td>\n",
              "      <td>10</td>\n",
              "      <td>13</td>\n",
              "      <td>1</td>\n",
              "      <td>credit_card</td>\n",
              "      <td>1</td>\n",
              "      <td>55.79</td>\n",
              "    </tr>\n",
              "  </tbody>\n",
              "</table>\n",
              "<p>117601 rows × 16 columns</p>\n",
              "</div>"
            ],
            "text/plain": [
              "                                order_id  ...  payment_value\n",
              "0       00010242fe8c5a6d1ba2dd792cb16214  ...          72.19\n",
              "1       00018f77f2f0320c557190d7a144bdd3  ...         259.83\n",
              "2       000229ec398224ef6ca0657da4fc703e  ...         216.87\n",
              "3       00024acbcdf0a6daa1e931b038114c75  ...          25.78\n",
              "4       00042b26cf59d7ce69dfabb4e55b4fd9  ...         218.04\n",
              "...                                  ...  ...            ...\n",
              "117596  fffc94f6ce00a00581880bf54a75a037  ...         343.40\n",
              "117597  fffcd46ef2263f404302a634eb57f7eb  ...         386.53\n",
              "117598  fffce4705a9662cd70adb13d4a31832d  ...         116.85\n",
              "117599  fffe18544ffabc95dfada21779c9644f  ...          64.71\n",
              "117600  fffe41c64501cc87c801fd61db3f6244  ...          55.79\n",
              "\n",
              "[117601 rows x 16 columns]"
            ]
          },
          "metadata": {
            "tags": []
          },
          "execution_count": 15
        }
      ]
    },
    {
      "cell_type": "code",
      "metadata": {
        "colab": {
          "base_uri": "https://localhost:8080/",
          "height": 424
        },
        "id": "bWr38HCn0Yl0",
        "outputId": "1796e259-be07-454d-86bf-eecb0b7e85df"
      },
      "source": [
        "# create three dummy variables using get_dummies, then exclude the first dummy column\n",
        "area_dummies = pd.get_dummies(df3['payment_type'], prefix='payment_type').iloc[:, 1:]\n",
        "area_dummies"
      ],
      "execution_count": 16,
      "outputs": [
        {
          "output_type": "execute_result",
          "data": {
            "text/html": [
              "<div>\n",
              "<style scoped>\n",
              "    .dataframe tbody tr th:only-of-type {\n",
              "        vertical-align: middle;\n",
              "    }\n",
              "\n",
              "    .dataframe tbody tr th {\n",
              "        vertical-align: top;\n",
              "    }\n",
              "\n",
              "    .dataframe thead th {\n",
              "        text-align: right;\n",
              "    }\n",
              "</style>\n",
              "<table border=\"1\" class=\"dataframe\">\n",
              "  <thead>\n",
              "    <tr style=\"text-align: right;\">\n",
              "      <th></th>\n",
              "      <th>payment_type_credit_card</th>\n",
              "      <th>payment_type_debit_card</th>\n",
              "      <th>payment_type_voucher</th>\n",
              "    </tr>\n",
              "  </thead>\n",
              "  <tbody>\n",
              "    <tr>\n",
              "      <th>0</th>\n",
              "      <td>1</td>\n",
              "      <td>0</td>\n",
              "      <td>0</td>\n",
              "    </tr>\n",
              "    <tr>\n",
              "      <th>1</th>\n",
              "      <td>1</td>\n",
              "      <td>0</td>\n",
              "      <td>0</td>\n",
              "    </tr>\n",
              "    <tr>\n",
              "      <th>2</th>\n",
              "      <td>1</td>\n",
              "      <td>0</td>\n",
              "      <td>0</td>\n",
              "    </tr>\n",
              "    <tr>\n",
              "      <th>3</th>\n",
              "      <td>1</td>\n",
              "      <td>0</td>\n",
              "      <td>0</td>\n",
              "    </tr>\n",
              "    <tr>\n",
              "      <th>4</th>\n",
              "      <td>1</td>\n",
              "      <td>0</td>\n",
              "      <td>0</td>\n",
              "    </tr>\n",
              "    <tr>\n",
              "      <th>...</th>\n",
              "      <td>...</td>\n",
              "      <td>...</td>\n",
              "      <td>...</td>\n",
              "    </tr>\n",
              "    <tr>\n",
              "      <th>117596</th>\n",
              "      <td>0</td>\n",
              "      <td>0</td>\n",
              "      <td>0</td>\n",
              "    </tr>\n",
              "    <tr>\n",
              "      <th>117597</th>\n",
              "      <td>0</td>\n",
              "      <td>0</td>\n",
              "      <td>0</td>\n",
              "    </tr>\n",
              "    <tr>\n",
              "      <th>117598</th>\n",
              "      <td>1</td>\n",
              "      <td>0</td>\n",
              "      <td>0</td>\n",
              "    </tr>\n",
              "    <tr>\n",
              "      <th>117599</th>\n",
              "      <td>1</td>\n",
              "      <td>0</td>\n",
              "      <td>0</td>\n",
              "    </tr>\n",
              "    <tr>\n",
              "      <th>117600</th>\n",
              "      <td>1</td>\n",
              "      <td>0</td>\n",
              "      <td>0</td>\n",
              "    </tr>\n",
              "  </tbody>\n",
              "</table>\n",
              "<p>117601 rows × 3 columns</p>\n",
              "</div>"
            ],
            "text/plain": [
              "        payment_type_credit_card  payment_type_debit_card  payment_type_voucher\n",
              "0                              1                        0                     0\n",
              "1                              1                        0                     0\n",
              "2                              1                        0                     0\n",
              "3                              1                        0                     0\n",
              "4                              1                        0                     0\n",
              "...                          ...                      ...                   ...\n",
              "117596                         0                        0                     0\n",
              "117597                         0                        0                     0\n",
              "117598                         1                        0                     0\n",
              "117599                         1                        0                     0\n",
              "117600                         1                        0                     0\n",
              "\n",
              "[117601 rows x 3 columns]"
            ]
          },
          "metadata": {
            "tags": []
          },
          "execution_count": 16
        }
      ]
    },
    {
      "cell_type": "code",
      "metadata": {
        "colab": {
          "base_uri": "https://localhost:8080/",
          "height": 444
        },
        "id": "8P2JILIX0Yl0",
        "outputId": "832e0df4-f9c5-4d98-dcec-82688aa5f3b1"
      },
      "source": [
        "# concatenate the dummy variable columns onto the original DataFrame (axis=0 means rows, axis=1 means columns)\n",
        "df3= pd.concat([df3, area_dummies], axis=1)\n",
        "df3"
      ],
      "execution_count": 17,
      "outputs": [
        {
          "output_type": "execute_result",
          "data": {
            "text/html": [
              "<div>\n",
              "<style scoped>\n",
              "    .dataframe tbody tr th:only-of-type {\n",
              "        vertical-align: middle;\n",
              "    }\n",
              "\n",
              "    .dataframe tbody tr th {\n",
              "        vertical-align: top;\n",
              "    }\n",
              "\n",
              "    .dataframe thead th {\n",
              "        text-align: right;\n",
              "    }\n",
              "</style>\n",
              "<table border=\"1\" class=\"dataframe\">\n",
              "  <thead>\n",
              "    <tr style=\"text-align: right;\">\n",
              "      <th></th>\n",
              "      <th>order_id</th>\n",
              "      <th>order_item_id</th>\n",
              "      <th>product_id</th>\n",
              "      <th>seller_id</th>\n",
              "      <th>price</th>\n",
              "      <th>freight_value</th>\n",
              "      <th>shipping_limit_date_yr</th>\n",
              "      <th>shipping_limit_date_mo</th>\n",
              "      <th>shipping_limit_date_dy</th>\n",
              "      <th>shipping_limit_date_hr</th>\n",
              "      <th>shipping_limit_date_mi</th>\n",
              "      <th>shipping_limit_date_sec</th>\n",
              "      <th>payment_sequential</th>\n",
              "      <th>payment_type</th>\n",
              "      <th>payment_installments</th>\n",
              "      <th>payment_value</th>\n",
              "      <th>payment_type_credit_card</th>\n",
              "      <th>payment_type_debit_card</th>\n",
              "      <th>payment_type_voucher</th>\n",
              "    </tr>\n",
              "  </thead>\n",
              "  <tbody>\n",
              "    <tr>\n",
              "      <th>0</th>\n",
              "      <td>00010242fe8c5a6d1ba2dd792cb16214</td>\n",
              "      <td>1</td>\n",
              "      <td>4244733e06e7ecb4970a6e2683c13e61</td>\n",
              "      <td>48436dade18ac8b2bce089ec2a041202</td>\n",
              "      <td>58.90</td>\n",
              "      <td>13.29</td>\n",
              "      <td>2017</td>\n",
              "      <td>9</td>\n",
              "      <td>19</td>\n",
              "      <td>9</td>\n",
              "      <td>45</td>\n",
              "      <td>35</td>\n",
              "      <td>1</td>\n",
              "      <td>credit_card</td>\n",
              "      <td>2</td>\n",
              "      <td>72.19</td>\n",
              "      <td>1</td>\n",
              "      <td>0</td>\n",
              "      <td>0</td>\n",
              "    </tr>\n",
              "    <tr>\n",
              "      <th>1</th>\n",
              "      <td>00018f77f2f0320c557190d7a144bdd3</td>\n",
              "      <td>1</td>\n",
              "      <td>e5f2d52b802189ee658865ca93d83a8f</td>\n",
              "      <td>dd7ddc04e1b6c2c614352b383efe2d36</td>\n",
              "      <td>239.90</td>\n",
              "      <td>19.93</td>\n",
              "      <td>2017</td>\n",
              "      <td>5</td>\n",
              "      <td>3</td>\n",
              "      <td>11</td>\n",
              "      <td>5</td>\n",
              "      <td>13</td>\n",
              "      <td>1</td>\n",
              "      <td>credit_card</td>\n",
              "      <td>3</td>\n",
              "      <td>259.83</td>\n",
              "      <td>1</td>\n",
              "      <td>0</td>\n",
              "      <td>0</td>\n",
              "    </tr>\n",
              "    <tr>\n",
              "      <th>2</th>\n",
              "      <td>000229ec398224ef6ca0657da4fc703e</td>\n",
              "      <td>1</td>\n",
              "      <td>c777355d18b72b67abbeef9df44fd0fd</td>\n",
              "      <td>5b51032eddd242adc84c38acab88f23d</td>\n",
              "      <td>199.00</td>\n",
              "      <td>17.87</td>\n",
              "      <td>2018</td>\n",
              "      <td>1</td>\n",
              "      <td>18</td>\n",
              "      <td>14</td>\n",
              "      <td>48</td>\n",
              "      <td>30</td>\n",
              "      <td>1</td>\n",
              "      <td>credit_card</td>\n",
              "      <td>5</td>\n",
              "      <td>216.87</td>\n",
              "      <td>1</td>\n",
              "      <td>0</td>\n",
              "      <td>0</td>\n",
              "    </tr>\n",
              "    <tr>\n",
              "      <th>3</th>\n",
              "      <td>00024acbcdf0a6daa1e931b038114c75</td>\n",
              "      <td>1</td>\n",
              "      <td>7634da152a4610f1595efa32f14722fc</td>\n",
              "      <td>9d7a1d34a5052409006425275ba1c2b4</td>\n",
              "      <td>12.99</td>\n",
              "      <td>12.79</td>\n",
              "      <td>2018</td>\n",
              "      <td>8</td>\n",
              "      <td>15</td>\n",
              "      <td>10</td>\n",
              "      <td>10</td>\n",
              "      <td>18</td>\n",
              "      <td>1</td>\n",
              "      <td>credit_card</td>\n",
              "      <td>2</td>\n",
              "      <td>25.78</td>\n",
              "      <td>1</td>\n",
              "      <td>0</td>\n",
              "      <td>0</td>\n",
              "    </tr>\n",
              "    <tr>\n",
              "      <th>4</th>\n",
              "      <td>00042b26cf59d7ce69dfabb4e55b4fd9</td>\n",
              "      <td>1</td>\n",
              "      <td>ac6c3623068f30de03045865e4e10089</td>\n",
              "      <td>df560393f3a51e74553ab94004ba5c87</td>\n",
              "      <td>199.90</td>\n",
              "      <td>18.14</td>\n",
              "      <td>2017</td>\n",
              "      <td>2</td>\n",
              "      <td>13</td>\n",
              "      <td>13</td>\n",
              "      <td>57</td>\n",
              "      <td>51</td>\n",
              "      <td>1</td>\n",
              "      <td>credit_card</td>\n",
              "      <td>3</td>\n",
              "      <td>218.04</td>\n",
              "      <td>1</td>\n",
              "      <td>0</td>\n",
              "      <td>0</td>\n",
              "    </tr>\n",
              "    <tr>\n",
              "      <th>...</th>\n",
              "      <td>...</td>\n",
              "      <td>...</td>\n",
              "      <td>...</td>\n",
              "      <td>...</td>\n",
              "      <td>...</td>\n",
              "      <td>...</td>\n",
              "      <td>...</td>\n",
              "      <td>...</td>\n",
              "      <td>...</td>\n",
              "      <td>...</td>\n",
              "      <td>...</td>\n",
              "      <td>...</td>\n",
              "      <td>...</td>\n",
              "      <td>...</td>\n",
              "      <td>...</td>\n",
              "      <td>...</td>\n",
              "      <td>...</td>\n",
              "      <td>...</td>\n",
              "      <td>...</td>\n",
              "    </tr>\n",
              "    <tr>\n",
              "      <th>117596</th>\n",
              "      <td>fffc94f6ce00a00581880bf54a75a037</td>\n",
              "      <td>1</td>\n",
              "      <td>4aa6014eceb682077f9dc4bffebc05b0</td>\n",
              "      <td>b8bc237ba3788b23da09c0f1f3a3288c</td>\n",
              "      <td>299.99</td>\n",
              "      <td>43.41</td>\n",
              "      <td>2018</td>\n",
              "      <td>5</td>\n",
              "      <td>2</td>\n",
              "      <td>4</td>\n",
              "      <td>11</td>\n",
              "      <td>1</td>\n",
              "      <td>1</td>\n",
              "      <td>boleto</td>\n",
              "      <td>1</td>\n",
              "      <td>343.40</td>\n",
              "      <td>0</td>\n",
              "      <td>0</td>\n",
              "      <td>0</td>\n",
              "    </tr>\n",
              "    <tr>\n",
              "      <th>117597</th>\n",
              "      <td>fffcd46ef2263f404302a634eb57f7eb</td>\n",
              "      <td>1</td>\n",
              "      <td>32e07fd915822b0765e448c4dd74c828</td>\n",
              "      <td>f3c38ab652836d21de61fb8314b69182</td>\n",
              "      <td>350.00</td>\n",
              "      <td>36.53</td>\n",
              "      <td>2018</td>\n",
              "      <td>7</td>\n",
              "      <td>20</td>\n",
              "      <td>4</td>\n",
              "      <td>31</td>\n",
              "      <td>48</td>\n",
              "      <td>1</td>\n",
              "      <td>boleto</td>\n",
              "      <td>1</td>\n",
              "      <td>386.53</td>\n",
              "      <td>0</td>\n",
              "      <td>0</td>\n",
              "      <td>0</td>\n",
              "    </tr>\n",
              "    <tr>\n",
              "      <th>117598</th>\n",
              "      <td>fffce4705a9662cd70adb13d4a31832d</td>\n",
              "      <td>1</td>\n",
              "      <td>72a30483855e2eafc67aee5dc2560482</td>\n",
              "      <td>c3cfdc648177fdbbbb35635a37472c53</td>\n",
              "      <td>99.90</td>\n",
              "      <td>16.95</td>\n",
              "      <td>2017</td>\n",
              "      <td>10</td>\n",
              "      <td>30</td>\n",
              "      <td>17</td>\n",
              "      <td>14</td>\n",
              "      <td>25</td>\n",
              "      <td>1</td>\n",
              "      <td>credit_card</td>\n",
              "      <td>3</td>\n",
              "      <td>116.85</td>\n",
              "      <td>1</td>\n",
              "      <td>0</td>\n",
              "      <td>0</td>\n",
              "    </tr>\n",
              "    <tr>\n",
              "      <th>117599</th>\n",
              "      <td>fffe18544ffabc95dfada21779c9644f</td>\n",
              "      <td>1</td>\n",
              "      <td>9c422a519119dcad7575db5af1ba540e</td>\n",
              "      <td>2b3e4a2a3ea8e01938cabda2a3e5cc79</td>\n",
              "      <td>55.99</td>\n",
              "      <td>8.72</td>\n",
              "      <td>2017</td>\n",
              "      <td>8</td>\n",
              "      <td>21</td>\n",
              "      <td>0</td>\n",
              "      <td>4</td>\n",
              "      <td>32</td>\n",
              "      <td>1</td>\n",
              "      <td>credit_card</td>\n",
              "      <td>3</td>\n",
              "      <td>64.71</td>\n",
              "      <td>1</td>\n",
              "      <td>0</td>\n",
              "      <td>0</td>\n",
              "    </tr>\n",
              "    <tr>\n",
              "      <th>117600</th>\n",
              "      <td>fffe41c64501cc87c801fd61db3f6244</td>\n",
              "      <td>1</td>\n",
              "      <td>350688d9dc1e75ff97be326363655e01</td>\n",
              "      <td>f7ccf836d21b2fb1de37564105216cc1</td>\n",
              "      <td>43.00</td>\n",
              "      <td>12.79</td>\n",
              "      <td>2018</td>\n",
              "      <td>6</td>\n",
              "      <td>12</td>\n",
              "      <td>17</td>\n",
              "      <td>10</td>\n",
              "      <td>13</td>\n",
              "      <td>1</td>\n",
              "      <td>credit_card</td>\n",
              "      <td>1</td>\n",
              "      <td>55.79</td>\n",
              "      <td>1</td>\n",
              "      <td>0</td>\n",
              "      <td>0</td>\n",
              "    </tr>\n",
              "  </tbody>\n",
              "</table>\n",
              "<p>117601 rows × 19 columns</p>\n",
              "</div>"
            ],
            "text/plain": [
              "                                order_id  ...  payment_type_voucher\n",
              "0       00010242fe8c5a6d1ba2dd792cb16214  ...                     0\n",
              "1       00018f77f2f0320c557190d7a144bdd3  ...                     0\n",
              "2       000229ec398224ef6ca0657da4fc703e  ...                     0\n",
              "3       00024acbcdf0a6daa1e931b038114c75  ...                     0\n",
              "4       00042b26cf59d7ce69dfabb4e55b4fd9  ...                     0\n",
              "...                                  ...  ...                   ...\n",
              "117596  fffc94f6ce00a00581880bf54a75a037  ...                     0\n",
              "117597  fffcd46ef2263f404302a634eb57f7eb  ...                     0\n",
              "117598  fffce4705a9662cd70adb13d4a31832d  ...                     0\n",
              "117599  fffe18544ffabc95dfada21779c9644f  ...                     0\n",
              "117600  fffe41c64501cc87c801fd61db3f6244  ...                     0\n",
              "\n",
              "[117601 rows x 19 columns]"
            ]
          },
          "metadata": {
            "tags": []
          },
          "execution_count": 17
        }
      ]
    },
    {
      "cell_type": "code",
      "metadata": {
        "scrolled": true,
        "id": "037_Czmk0Yl1"
      },
      "source": [
        "df3=df3.drop(['order_id','product_id','seller_id','payment_type'],axis=1)"
      ],
      "execution_count": 18,
      "outputs": []
    },
    {
      "cell_type": "code",
      "metadata": {
        "colab": {
          "base_uri": "https://localhost:8080/"
        },
        "id": "_4r0sVgL0Yl1",
        "outputId": "3757aa26-6d5c-4106-858a-9d4f045f8747"
      },
      "source": [
        "print(df3.price.sum())\n",
        "print(df3.freight_value.sum())\n",
        "print(df3.payment_value.sum())\n",
        "## in sales prediction we have to predict the payment_value not the price because price can be up or low in specific \n",
        "## season but payment describe the amount of money spend during payment of specfic product so it detrmine the amount of sales"
      ],
      "execution_count": 19,
      "outputs": [
        {
          "output_type": "stream",
          "text": [
            "14209115.340000002\n",
            "2357428.51\n",
            "20308134.709999997\n"
          ],
          "name": "stdout"
        }
      ]
    },
    {
      "cell_type": "code",
      "metadata": {
        "colab": {
          "base_uri": "https://localhost:8080/"
        },
        "id": "npoqeUAu0Yl1",
        "outputId": "2447f594-be98-4b34-c525-defb686c7473"
      },
      "source": [
        "df3.isna().sum()"
      ],
      "execution_count": 20,
      "outputs": [
        {
          "output_type": "execute_result",
          "data": {
            "text/plain": [
              "order_item_id               0\n",
              "price                       0\n",
              "freight_value               0\n",
              "shipping_limit_date_yr      0\n",
              "shipping_limit_date_mo      0\n",
              "shipping_limit_date_dy      0\n",
              "shipping_limit_date_hr      0\n",
              "shipping_limit_date_mi      0\n",
              "shipping_limit_date_sec     0\n",
              "payment_sequential          0\n",
              "payment_installments        0\n",
              "payment_value               0\n",
              "payment_type_credit_card    0\n",
              "payment_type_debit_card     0\n",
              "payment_type_voucher        0\n",
              "dtype: int64"
            ]
          },
          "metadata": {
            "tags": []
          },
          "execution_count": 20
        }
      ]
    },
    {
      "cell_type": "code",
      "metadata": {
        "id": "sc4bGU9I3PhQ"
      },
      "source": [
        "df3=df3.dropna()"
      ],
      "execution_count": 21,
      "outputs": []
    },
    {
      "cell_type": "code",
      "metadata": {
        "id": "9ln_JcOz0Yl1"
      },
      "source": [
        "scaler =StandardScaler()\n",
        "X =df3.drop(columns = ['payment_value'])\n",
        "X_scaled = scaler.fit_transform(X)\n",
        "y=df3['payment_value']"
      ],
      "execution_count": 22,
      "outputs": []
    },
    {
      "cell_type": "code",
      "metadata": {
        "colab": {
          "base_uri": "https://localhost:8080/",
          "height": 1000
        },
        "id": "IWsnNMDJ0Yl4",
        "outputId": "f7896324-78e0-4d6f-ba23-c283ca8bf2a4"
      },
      "source": [
        "plt.figure(figsize=(20,30), facecolor='white')\n",
        "plotnumber = 1\n",
        "\n",
        "for column in X:\n",
        "    if plotnumber<=15 :\n",
        "        ax = plt.subplot(5,3,plotnumber)\n",
        "        plt.scatter(X[column],y)\n",
        "        plt.xlabel(column,fontsize=20)\n",
        "        plt.ylabel('payment_value',fontsize=20)\n",
        "    plotnumber+=1\n",
        "plt.tight_layout()"
      ],
      "execution_count": 23,
      "outputs": [
        {
          "output_type": "display_data",
          "data": {
            "image/png": "[encoded data removed]",
            "text/plain": [
              "<Figure size 1440x2160 with 14 Axes>"
            ]
          },
          "metadata": {
            "tags": []
          }
        }
      ]
    },
    {
      "cell_type": "code",
      "metadata": {
        "id": "C6pPCiHY0Yl5"
      },
      "source": [
        "x_train,x_test,y_train,y_test = train_test_split(X_scaled,y,test_size = 0.25,random_state=355)"
      ],
      "execution_count": 24,
      "outputs": []
    },
    {
      "cell_type": "code",
      "metadata": {
        "colab": {
          "base_uri": "https://localhost:8080/"
        },
        "id": "DPMhAdio0Yl5",
        "outputId": "9e98e014-6eca-40da-b526-4d7a3126d3c8"
      },
      "source": [
        "regression = LinearRegression()\n",
        "\n",
        "regression.fit(x_train,y_train)"
      ],
      "execution_count": 25,
      "outputs": [
        {
          "output_type": "execute_result",
          "data": {
            "text/plain": [
              "LinearRegression(copy_X=True, fit_intercept=True, n_jobs=None, normalize=False)"
            ]
          },
          "metadata": {
            "tags": []
          },
          "execution_count": 25
        }
      ]
    },
    {
      "cell_type": "code",
      "metadata": {
        "id": "DQ_TquSh0Yl5"
      },
      "source": [
        "# saving the model to the local file system\n",
        "filename = 'finalized_model.pickle'\n",
        "pickle.dump(regression, open(filename, 'wb'))"
      ],
      "execution_count": 26,
      "outputs": []
    },
    {
      "cell_type": "code",
      "metadata": {
        "colab": {
          "base_uri": "https://localhost:8080/"
        },
        "id": "f8DXQA3K0Yl5",
        "outputId": "06411675-a1ab-4f34-e728-1ec2df3f1906"
      },
      "source": [
        "# prediction using the saved model\n",
        "loaded_model = pickle.load(open(filename, 'rb'))\n",
        "#a=loaded_model.predict(scaler.transform([[1,58.90,13.29,2017,9,19,9,45,35,1,2,1,0,0]]))\n",
        "a=loaded_model.predict(scaler.transform(x_test[1:2]))\n",
        "a\n",
        "# 1df3 array([73.22730949])"
      ],
      "execution_count": 27,
      "outputs": [
        {
          "output_type": "execute_result",
          "data": {
            "text/plain": [
              "array([-5111.23281312])"
            ]
          },
          "metadata": {
            "tags": []
          },
          "execution_count": 27
        }
      ]
    },
    {
      "cell_type": "code",
      "metadata": {
        "id": "0l0ETiyX0Yl5"
      },
      "source": [
        "Y_predicted=loaded_model.predict(x_test)"
      ],
      "execution_count": 28,
      "outputs": []
    },
    {
      "cell_type": "code",
      "metadata": {
        "colab": {
          "base_uri": "https://localhost:8080/"
        },
        "id": "MkcxiKl70Yl5",
        "outputId": "7d37554c-9ba8-40a1-c27d-baa3b3b99c43"
      },
      "source": [
        "from sklearn.metrics import mean_squared_error\n",
        "import math\n",
        "print(mean_squared_error(y_test, Y_predicted))\n",
        "print(math.sqrt(mean_squared_error(y_test, Y_predicted)))\n",
        "#27380.495546558326\n",
        "#165.470527727926\n"
      ],
      "execution_count": 29,
      "outputs": [
        {
          "output_type": "stream",
          "text": [
            "27380.495546558304\n",
            "165.47052772792594\n"
          ],
          "name": "stdout"
        }
      ]
    },
    {
      "cell_type": "code",
      "metadata": {
        "colab": {
          "base_uri": "https://localhost:8080/"
        },
        "id": "T5oLv0iL0Yl5",
        "outputId": "01c686d4-6e2d-4540-ce83-b4ef04f5bfc6"
      },
      "source": [
        "from sklearn.metrics import mean_absolute_error\n",
        "print(mean_absolute_error(y_test, Y_predicted))\n",
        "#MAE: 45.607169984972195"
      ],
      "execution_count": 30,
      "outputs": [
        {
          "output_type": "stream",
          "text": [
            "45.607169984972074\n"
          ],
          "name": "stdout"
        }
      ]
    },
    {
      "cell_type": "code",
      "metadata": {
        "id": "MEMZTpjO0Yl5"
      },
      "source": [
        "# Let's create a function to create adjusted R-Squared\n",
        "def adj_r2(x,y):\n",
        "    r2 = regression.score(x,y)\n",
        "    n = x.shape[0]\n",
        "    p = x.shape[1]\n",
        "    adjusted_r2 = 1-(1-r2)*(n-1)/(n-p-1)\n",
        "    return adjusted_r2"
      ],
      "execution_count": 31,
      "outputs": []
    },
    {
      "cell_type": "code",
      "metadata": {
        "colab": {
          "base_uri": "https://localhost:8080/"
        },
        "id": "q1QiFMG40Yl5",
        "outputId": "e5e2728e-b610-456f-ec69-1b275ce5ec6d"
      },
      "source": [
        "# accuracy of our regression\n",
        "regression.score(x_train,y_train)"
      ],
      "execution_count": 32,
      "outputs": [
        {
          "output_type": "execute_result",
          "data": {
            "text/plain": [
              "0.6619215690372877"
            ]
          },
          "metadata": {
            "tags": []
          },
          "execution_count": 32
        }
      ]
    },
    {
      "cell_type": "code",
      "metadata": {
        "colab": {
          "base_uri": "https://localhost:8080/"
        },
        "id": "tHx6pG8y0Yl6",
        "outputId": "6363567b-d56e-4280-e1a3-0788ed314dc0"
      },
      "source": [
        "adj_r2(x_test,y_test)\n",
        "# linear regression giving less accuracy score on this task"
      ],
      "execution_count": 33,
      "outputs": [
        {
          "output_type": "execute_result",
          "data": {
            "text/plain": [
              "0.6422583514677138"
            ]
          },
          "metadata": {
            "tags": []
          },
          "execution_count": 33
        }
      ]
    },
    {
      "cell_type": "code",
      "metadata": {
        "colab": {
          "base_uri": "https://localhost:8080/"
        },
        "id": "ySG-VK6U69mz",
        "outputId": "6168f8fc-2a4f-4751-8ec9-8752ffbcf28e"
      },
      "source": [
        "#completely overfeated\n",
        "from sklearn.tree import DecisionTreeRegressor\n",
        "dt = DecisionTreeRegressor()\n",
        "dt.fit(x_train,y_train)\n",
        "dt.score(x_train,y_train)"
      ],
      "execution_count": 36,
      "outputs": [
        {
          "output_type": "execute_result",
          "data": {
            "text/plain": [
              "0.9999999594797392"
            ]
          },
          "metadata": {
            "tags": []
          },
          "execution_count": 36
        }
      ]
    },
    {
      "cell_type": "code",
      "metadata": {
        "colab": {
          "base_uri": "https://localhost:8080/"
        },
        "id": "lv80KYZ57QT8",
        "outputId": "4aabb212-45f0-430f-e1c9-14073c8bbf45"
      },
      "source": [
        "# accuracy of our regression tree\n",
        "dt.score(x_test,y_test)"
      ],
      "execution_count": 38,
      "outputs": [
        {
          "output_type": "execute_result",
          "data": {
            "text/plain": [
              "0.7744341467311183"
            ]
          },
          "metadata": {
            "tags": []
          },
          "execution_count": 38
        }
      ]
    },
    {
      "cell_type": "code",
      "metadata": {
        "colab": {
          "base_uri": "https://localhost:8080/"
        },
        "id": "T3Fb4p7DtlML",
        "outputId": "1823fd50-5b52-4cb0-ec9f-9565be59140d"
      },
      "source": [
        "# overfeated model on training set becuase accuracy on training set is 98% whereas on test set is 85%\n",
        "from sklearn.ensemble import RandomForestRegressor\n",
        "rand_clf = RandomForestRegressor()\n",
        "rand_clf.fit(x_train,y_train)\n",
        "rand_clf.score(x_train,y_train)"
      ],
      "execution_count": 70,
      "outputs": [
        {
          "output_type": "execute_result",
          "data": {
            "text/plain": [
              "0.9811869576507277"
            ]
          },
          "metadata": {
            "tags": []
          },
          "execution_count": 70
        }
      ]
    },
    {
      "cell_type": "code",
      "metadata": {
        "colab": {
          "base_uri": "https://localhost:8080/"
        },
        "id": "2gyQ_MtKbX0e",
        "outputId": "067c3097-18b5-4630-b17f-c14945fec153"
      },
      "source": [
        "rand_clf.score(x_test,y_test)"
      ],
      "execution_count": 50,
      "outputs": [
        {
          "output_type": "execute_result",
          "data": {
            "text/plain": [
              "0.8596313986245283"
            ]
          },
          "metadata": {
            "tags": []
          },
          "execution_count": 50
        }
      ]
    },
    {
      "cell_type": "code",
      "metadata": {
        "colab": {
          "base_uri": "https://localhost:8080/"
        },
        "id": "wdGlJeZGtd2t",
        "outputId": "e90940a7-cffa-4b02-dc5a-f249cf8a0d0c"
      },
      "source": [
        "# best perfoming model not overfeated not underfeated with good accuracie score\n",
        "from xgboost import XGBRegressor\n",
        "model = XGBRegressor()\n",
        "model.fit(x_train,y_train)\n",
        "model.score(x_train,y_train)"
      ],
      "execution_count": 69,
      "outputs": [
        {
          "output_type": "execute_result",
          "data": {
            "text/plain": [
              "0.8790986549020033"
            ]
          },
          "metadata": {
            "tags": []
          },
          "execution_count": 69
        }
      ]
    },
    {
      "cell_type": "code",
      "metadata": {
        "colab": {
          "base_uri": "https://localhost:8080/"
        },
        "id": "C8WtY_kzrzoZ",
        "outputId": "8fac9a09-8bd0-4286-a341-efbbfbf81606"
      },
      "source": [
        "model.score(x_test,y_test)"
      ],
      "execution_count": 61,
      "outputs": [
        {
          "output_type": "execute_result",
          "data": {
            "text/plain": [
              "0.8524355248680882"
            ]
          },
          "metadata": {
            "tags": []
          },
          "execution_count": 61
        }
      ]
    },
    {
      "cell_type": "code",
      "metadata": {
        "colab": {
          "base_uri": "https://localhost:8080/"
        },
        "id": "6-RYfmZGtWm3",
        "outputId": "115d5f53-f964-4fad-bc96-321095b894e7"
      },
      "source": [
        "#gives very low accuracy score\n",
        "from sklearn.svm import SVR\n",
        "svr=SVR(C=1.0, epsilon=0.2)\n",
        "svr.fit(x_train,y_train)\n",
        "svr.score(x_test,y_test)"
      ],
      "execution_count": 68,
      "outputs": [
        {
          "output_type": "execute_result",
          "data": {
            "text/plain": [
              "0.30782932315362044"
            ]
          },
          "metadata": {
            "tags": []
          },
          "execution_count": 68
        }
      ]
    },
    {
      "cell_type": "code",
      "metadata": {
        "colab": {
          "base_uri": "https://localhost:8080/"
        },
        "id": "FD51BCDBtZV1",
        "outputId": "a1118120-22fe-47f2-e39c-6c89a1bc5ec9"
      },
      "source": [
        "svr.score(x_train,y_train)"
      ],
      "execution_count": 71,
      "outputs": [
        {
          "output_type": "execute_result",
          "data": {
            "text/plain": [
              "0.3259884148964567"
            ]
          },
          "metadata": {
            "tags": []
          },
          "execution_count": 71
        }
      ]
    },
    {
      "cell_type": "code",
      "metadata": {
        "id": "kTVhEpOS0kR2"
      },
      "source": [
        "# xgboost giving us best model which  is not overfeated on training set like randomforest does above"
      ],
      "execution_count": null,
      "outputs": []
    }
  ]
}